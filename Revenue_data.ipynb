{
 "cells": [
  {
   "cell_type": "code",
   "execution_count": 1,
   "id": "96e9e159",
   "metadata": {},
   "outputs": [
    {
     "name": "stdout",
     "output_type": "stream",
     "text": [
      "✅ Revenue data saved successfully to:\n",
      "C:\\Users\\SulihatSobalaje\\Desktop\\WIP-PROJECT\\Revenue_data.csv\n"
     ]
    }
   ],
   "source": [
    "import pandas as pd\n",
    "import numpy as np\n",
    "import random\n",
    "from datetime import datetime, timedelta\n",
    "import os\n",
    "\n",
    "# Set the path to your WIP-Project folder (update this if needed)\n",
    "save_folder = r\"C:\\Users\\SulihatSobalaje\\Desktop\\WIP-PROJECT\"\n",
    "file_name = \"Revenue_data.csv\"\n",
    "save_path = os.path.join(save_folder, file_name)\n",
    "\n",
    "# 1. Generate date range from Jan 1, 2019 to Apr 30, 2025\n",
    "date_range = pd.date_range(start=\"2019-01-01\", end=\"2025-04-30\", freq=\"D\")\n",
    "\n",
    "# 2. Define Product Names\n",
    "product_names = (\n",
    "    [f\"License {i}\" for i in range(1, 10)] +\n",
    "    [f\"Managed Service {i}\" for i in range(1, 4)] +\n",
    "    [f\"Product {i}\" for i in range(1, 13)]\n",
    ")\n",
    "\n",
    "# 3. Generate Data\n",
    "Revenue_data = {\n",
    "    \"Order Date\": [],\n",
    "    \"Product Name\": [],\n",
    "    \"Revenue Stream\": [],\n",
    "    \"Unit Price\": [],\n",
    "    \"Quantity\": []\n",
    "}\n",
    "\n",
    "for date in date_range:\n",
    "    num_transactions = random.randint(1, 5)\n",
    "    for _ in range(num_transactions):\n",
    "        product = random.choice(product_names)\n",
    "\n",
    "        # Determine revenue stream category\n",
    "        if \"License\" in product:\n",
    "            stream = \"License\"\n",
    "        elif \"Managed Service\" in product:\n",
    "            stream = \"Managed Service\"\n",
    "        else:\n",
    "            stream = \"Product\"\n",
    "\n",
    "        Revenue_data[\"Order Date\"].append(date)\n",
    "        Revenue_data[\"Product Name\"].append(product)\n",
    "        Revenue_data[\"Revenue Stream\"].append(stream)\n",
    "        Revenue_data[\"Unit Price\"].append(round(random.uniform(0.5, 100), 2))\n",
    "        Revenue_data[\"Quantity\"].append(random.randint(1, 4))\n",
    "\n",
    "# 4. Create dataFrame\n",
    "df = pd.DataFrame(Revenue_data)\n",
    "\n",
    "# 5. Save to CSV\n",
    "df.to_csv(save_path, index=False)\n",
    "print(f\"✅ Revenue data saved successfully to:\\n{save_path}\")\n"
   ]
  }
 ],
 "metadata": {
  "kernelspec": {
   "display_name": "base",
   "language": "python",
   "name": "python3"
  },
  "language_info": {
   "codemirror_mode": {
    "name": "ipython",
    "version": 3
   },
   "file_extension": ".py",
   "mimetype": "text/x-python",
   "name": "python",
   "nbconvert_exporter": "python",
   "pygments_lexer": "ipython3",
   "version": "3.12.4"
  }
 },
 "nbformat": 4,
 "nbformat_minor": 5
}
